{
  "nbformat": 4,
  "nbformat_minor": 0,
  "metadata": {
    "colab": {
      "provenance": [],
      "include_colab_link": true
    },
    "kernelspec": {
      "name": "python3",
      "display_name": "Python 3"
    }
  },
  "cells": [
    {
      "cell_type": "markdown",
      "metadata": {
        "id": "view-in-github",
        "colab_type": "text"
      },
      "source": [
        "<a href=\"https://colab.research.google.com/github/barbosa-renan/estudos-ia/blob/main/Algoritmos_de_otimiza%C3%A7%C3%A3o_calend%C3%A1rio_de_voos.ipynb\" target=\"_parent\"><img src=\"https://colab.research.google.com/assets/colab-badge.svg\" alt=\"Open In Colab\"/></a>"
      ]
    },
    {
      "cell_type": "markdown",
      "metadata": {
        "id": "lmY8JVlQxXjj"
      },
      "source": [
        "# Algoritmos de otimização - calendário de voos"
      ]
    },
    {
      "cell_type": "markdown",
      "metadata": {
        "id": "iA6XSNeifEB0"
      },
      "source": [
        "## Representação do problema"
      ]
    },
    {
      "cell_type": "code",
      "metadata": {
        "id": "tgkqEoRdxgfw"
      },
      "source": [
        "pessoas = [('Lisboa', 'LIS'),\n",
        "           ('Madrid', 'MAD'),\n",
        "           ('Paris', 'CDG'),\n",
        "           ('Dublin', 'DUB'),\n",
        "           ('Bruxelas', 'BRU'),\n",
        "           ('Londres', 'LHR')]"
      ],
      "execution_count": null,
      "outputs": []
    },
    {
      "cell_type": "code",
      "metadata": {
        "id": "6YkrP_6zx2--",
        "colab": {
          "base_uri": "https://localhost:8080/"
        },
        "outputId": "d7a045a0-e680-4f50-ffb4-35558c5cfdd4"
      },
      "source": [
        "pessoas[5]"
      ],
      "execution_count": null,
      "outputs": [
        {
          "output_type": "execute_result",
          "data": {
            "text/plain": [
              "('Londres', 'LHR')"
            ]
          },
          "metadata": {},
          "execution_count": 2
        }
      ]
    },
    {
      "cell_type": "code",
      "metadata": {
        "id": "FezIjellyATt"
      },
      "source": [
        "destino = 'FCO'"
      ],
      "execution_count": null,
      "outputs": []
    },
    {
      "cell_type": "code",
      "metadata": {
        "id": "ZxUhP_RCyloI"
      },
      "source": [
        "voos = {('BRU', 'FCO'): ['15:44', '18:55', 382]}"
      ],
      "execution_count": null,
      "outputs": []
    },
    {
      "cell_type": "code",
      "metadata": {
        "id": "JTDv4v96y2eT",
        "colab": {
          "base_uri": "https://localhost:8080/"
        },
        "outputId": "0af3a683-e180-4a5a-def2-248d11c4e749"
      },
      "source": [
        "voos"
      ],
      "execution_count": null,
      "outputs": [
        {
          "output_type": "execute_result",
          "data": {
            "text/plain": [
              "{('BRU', 'FCO'): ['15:44', '18:55', 382]}"
            ]
          },
          "metadata": {},
          "execution_count": 5
        }
      ]
    },
    {
      "cell_type": "code",
      "metadata": {
        "id": "9dHRjcXGy6CR",
        "colab": {
          "base_uri": "https://localhost:8080/"
        },
        "outputId": "d8db347c-51cf-476e-ade5-9c3f08c62f49"
      },
      "source": [
        "voos[('BRU', 'FCO')]"
      ],
      "execution_count": null,
      "outputs": [
        {
          "output_type": "execute_result",
          "data": {
            "text/plain": [
              "['15:44', '18:55', 382]"
            ]
          },
          "metadata": {},
          "execution_count": 6
        }
      ]
    },
    {
      "cell_type": "code",
      "metadata": {
        "id": "0brRvL3CzAfU",
        "colab": {
          "base_uri": "https://localhost:8080/"
        },
        "outputId": "152783f6-bada-4029-df13-f36ddde8fb47"
      },
      "source": [
        "voos[('BRU', 'FCO')][0], voos[('BRU', 'FCO')][1], voos[('BRU', 'FCO')][2]"
      ],
      "execution_count": null,
      "outputs": [
        {
          "output_type": "execute_result",
          "data": {
            "text/plain": [
              "('15:44', '18:55', 382)"
            ]
          },
          "metadata": {},
          "execution_count": 7
        }
      ]
    },
    {
      "cell_type": "code",
      "metadata": {
        "id": "i4pk1lYDyaaY"
      },
      "source": [
        "voos = {}\n",
        "for linha in open('/content/flights.txt'):\n",
        "  #print(linha)\n",
        "  #print(linha.split(','))\n",
        "  origem, destino, saida, chegada, preco = linha.split(',')\n",
        "  voos.setdefault((origem, destino), [])\n",
        "  voos[(origem, destino)].append((saida, chegada, int(preco)))"
      ],
      "execution_count": null,
      "outputs": []
    },
    {
      "cell_type": "code",
      "metadata": {
        "id": "nGEmfppez90U",
        "colab": {
          "base_uri": "https://localhost:8080/"
        },
        "outputId": "0f422d42-8c05-477a-c247-88f921ed3b06"
      },
      "source": [
        "voos"
      ],
      "execution_count": null,
      "outputs": [
        {
          "output_type": "execute_result",
          "data": {
            "text/plain": [
              "{('FCO', 'LIS'): [('6:19', '8:13', 239),\n",
              "  ('8:04', '10:59', 136),\n",
              "  ('9:31', '11:43', 210),\n",
              "  ('11:07', '13:24', 171),\n",
              "  ('12:31', '14:02', 234),\n",
              "  ('14:05', '15:47', 226),\n",
              "  ('15:07', '17:21', 129),\n",
              "  ('16:35', '18:56', 144),\n",
              "  ('18:25', '20:34', 205),\n",
              "  ('20:05', '21:44', 172)],\n",
              " ('LIS', 'FCO'): [('6:11', '8:31', 249),\n",
              "  ('7:39', '10:24', 219),\n",
              "  ('9:15', '12:03', 99),\n",
              "  ('11:08', '13:07', 175),\n",
              "  ('12:18', '14:56', 172),\n",
              "  ('13:37', '15:08', 250),\n",
              "  ('15:03', '16:42', 135),\n",
              "  ('16:51', '19:09', 147),\n",
              "  ('18:12', '20:17', 242),\n",
              "  ('20:05', '22:06', 261)],\n",
              " ('FCO', 'MAD'): [('6:03', '8:43', 219),\n",
              "  ('7:50', '10:08', 164),\n",
              "  ('9:11', '10:42', 172),\n",
              "  ('10:33', '13:11', 132),\n",
              "  ('12:08', '14:47', 231),\n",
              "  ('14:19', '17:09', 190),\n",
              "  ('15:04', '17:23', 189),\n",
              "  ('17:06', '20:00', 95),\n",
              "  ('18:33', '20:22', 143),\n",
              "  ('19:32', '21:25', 160)],\n",
              " ('MAD', 'FCO'): [('6:05', '8:32', 174),\n",
              "  ('8:25', '10:34', 157),\n",
              "  ('9:42', '11:32', 169),\n",
              "  ('11:01', '12:39', 260),\n",
              "  ('12:44', '14:17', 134),\n",
              "  ('14:22', '16:32', 126),\n",
              "  ('15:58', '18:40', 173),\n",
              "  ('16:43', '19:00', 246),\n",
              "  ('18:48', '21:45', 246),\n",
              "  ('19:50', '22:24', 269)],\n",
              " ('FCO', 'CDG'): [('6:33', '9:14', 172),\n",
              "  ('8:23', '11:07', 143),\n",
              "  ('9:25', '12:46', 295),\n",
              "  ('11:08', '14:38', 262),\n",
              "  ('12:37', '15:05', 170),\n",
              "  ('14:08', '16:09', 232),\n",
              "  ('15:23', '18:49', 150),\n",
              "  ('16:50', '19:26', 304),\n",
              "  ('18:07', '21:30', 355),\n",
              "  ('20:27', '23:42', 169)],\n",
              " ('CDG', 'FCO'): [('6:25', '9:30', 335),\n",
              "  ('7:34', '9:40', 324),\n",
              "  ('9:15', '12:29', 225),\n",
              "  ('11:28', '14:40', 248),\n",
              "  ('12:05', '15:30', 330),\n",
              "  ('14:01', '17:24', 338),\n",
              "  ('15:34', '18:11', 326),\n",
              "  ('17:07', '20:04', 291),\n",
              "  ('18:23', '21:35', 134),\n",
              "  ('19:53', '22:21', 173)],\n",
              " ('FCO', 'DUB'): [('6:39', '8:09', 86),\n",
              "  ('8:23', '10:28', 149),\n",
              "  ('9:58', '11:18', 130),\n",
              "  ('10:33', '12:03', 74),\n",
              "  ('12:08', '14:05', 142),\n",
              "  ('13:39', '15:30', 74),\n",
              "  ('15:25', '16:58', 62),\n",
              "  ('17:03', '18:03', 103),\n",
              "  ('18:24', '20:49', 124),\n",
              "  ('19:58', '21:23', 142)],\n",
              " ('DUB', 'FCO'): [('6:17', '8:26', 89),\n",
              "  ('8:04', '10:11', 95),\n",
              "  ('9:45', '11:50', 172),\n",
              "  ('11:16', '13:29', 83),\n",
              "  ('12:34', '15:02', 109),\n",
              "  ('13:40', '15:37', 138),\n",
              "  ('15:27', '17:18', 151),\n",
              "  ('17:11', '18:30', 108),\n",
              "  ('18:34', '19:36', 136),\n",
              "  ('20:17', '22:22', 102)],\n",
              " ('FCO', 'BRU'): [('6:09', '9:49', 414),\n",
              "  ('7:57', '11:15', 347),\n",
              "  ('9:49', '13:51', 229),\n",
              "  ('10:51', '14:16', 256),\n",
              "  ('12:20', '16:34', 500),\n",
              "  ('14:20', '17:32', 332),\n",
              "  ('15:49', '20:10', 497),\n",
              "  ('17:14', '20:59', 277),\n",
              "  ('18:44', '22:42', 351),\n",
              "  ('19:57', '23:15', 512)],\n",
              " ('BRU', 'FCO'): [('6:12', '10:22', 230),\n",
              "  ('7:53', '11:37', 433),\n",
              "  ('9:08', '12:12', 364),\n",
              "  ('10:30', '14:57', 290),\n",
              "  ('12:19', '15:25', 342),\n",
              "  ('13:54', '18:02', 294),\n",
              "  ('15:44', '18:55', 382),\n",
              "  ('16:52', '20:48', 448),\n",
              "  ('18:26', '21:29', 464),\n",
              "  ('20:07', '23:27', 473)],\n",
              " ('FCO', 'LHR'): [('6:58', '9:01', 238),\n",
              "  ('8:19', '11:16', 122),\n",
              "  ('9:58', '12:56', 249),\n",
              "  ('10:32', '13:16', 139),\n",
              "  ('12:01', '13:41', 267),\n",
              "  ('13:37', '15:33', 142),\n",
              "  ('15:50', '18:45', 243),\n",
              "  ('16:33', '18:15', 253),\n",
              "  ('18:17', '21:04', 259),\n",
              "  ('19:46', '21:45', 214)],\n",
              " ('LHR', 'FCO'): [('6:08', '8:06', 224),\n",
              "  ('8:27', '10:45', 139),\n",
              "  ('9:15', '12:14', 247),\n",
              "  ('10:53', '13:36', 189),\n",
              "  ('12:08', '14:59', 149),\n",
              "  ('13:40', '15:38', 137),\n",
              "  ('15:23', '17:25', 232),\n",
              "  ('17:08', '19:08', 262),\n",
              "  ('18:35', '20:28', 204),\n",
              "  ('20:30', '23:11', 114)]}"
            ]
          },
          "metadata": {},
          "execution_count": 9
        }
      ]
    },
    {
      "cell_type": "code",
      "metadata": {
        "id": "a1V3DNay0IjW",
        "colab": {
          "base_uri": "https://localhost:8080/"
        },
        "outputId": "41112a00-aced-4616-d81b-97d157ad87c5"
      },
      "source": [
        "voos[('LIS', 'FCO')]"
      ],
      "execution_count": null,
      "outputs": [
        {
          "output_type": "execute_result",
          "data": {
            "text/plain": [
              "[('6:11', '8:31', 249),\n",
              " ('7:39', '10:24', 219),\n",
              " ('9:15', '12:03', 99),\n",
              " ('11:08', '13:07', 175),\n",
              " ('12:18', '14:56', 172),\n",
              " ('13:37', '15:08', 250),\n",
              " ('15:03', '16:42', 135),\n",
              " ('16:51', '19:09', 147),\n",
              " ('18:12', '20:17', 242),\n",
              " ('20:05', '22:06', 261)]"
            ]
          },
          "metadata": {},
          "execution_count": 10
        }
      ]
    },
    {
      "cell_type": "code",
      "metadata": {
        "id": "L3kABr7G0OPq",
        "colab": {
          "base_uri": "https://localhost:8080/"
        },
        "outputId": "b27f8954-8a64-4c26-c656-8bc9d46266a1"
      },
      "source": [
        "voos[('FCO', 'LIS')]"
      ],
      "execution_count": null,
      "outputs": [
        {
          "output_type": "execute_result",
          "data": {
            "text/plain": [
              "[('6:19', '8:13', 239),\n",
              " ('8:04', '10:59', 136),\n",
              " ('9:31', '11:43', 210),\n",
              " ('11:07', '13:24', 171),\n",
              " ('12:31', '14:02', 234),\n",
              " ('14:05', '15:47', 226),\n",
              " ('15:07', '17:21', 129),\n",
              " ('16:35', '18:56', 144),\n",
              " ('18:25', '20:34', 205),\n",
              " ('20:05', '21:44', 172)]"
            ]
          },
          "metadata": {},
          "execution_count": 11
        }
      ]
    },
    {
      "cell_type": "code",
      "metadata": {
        "id": "NzPvuuaW1Wb2",
        "colab": {
          "base_uri": "https://localhost:8080/"
        },
        "outputId": "2712b8ef-f29f-400a-b48f-996cace5bf0f"
      },
      "source": [
        "agenda = [1,2, 3,2, 7,3, 6,3, 2,4, 5,3]\n",
        "len(agenda)"
      ],
      "execution_count": null,
      "outputs": [
        {
          "output_type": "execute_result",
          "data": {
            "text/plain": [
              "12"
            ]
          },
          "metadata": {},
          "execution_count": 12
        }
      ]
    },
    {
      "cell_type": "code",
      "metadata": {
        "id": "J6c97ssM2aga",
        "colab": {
          "base_uri": "https://localhost:8080/"
        },
        "outputId": "7bb450f2-74af-49a3-e149-f4ec13ea1b1c"
      },
      "source": [
        "len(agenda) // 2"
      ],
      "execution_count": null,
      "outputs": [
        {
          "output_type": "execute_result",
          "data": {
            "text/plain": [
              "6"
            ]
          },
          "metadata": {},
          "execution_count": 13
        }
      ]
    },
    {
      "cell_type": "code",
      "metadata": {
        "id": "8bh2eJJ92rkt",
        "colab": {
          "base_uri": "https://localhost:8080/",
          "height": 35
        },
        "outputId": "6c8e127a-6501-47a9-a85d-215243037074"
      },
      "source": [
        "pessoas[1][1]"
      ],
      "execution_count": null,
      "outputs": [
        {
          "output_type": "execute_result",
          "data": {
            "text/plain": [
              "'MAD'"
            ],
            "application/vnd.google.colaboratory.intrinsic+json": {
              "type": "string"
            }
          },
          "metadata": {},
          "execution_count": 14
        }
      ]
    },
    {
      "cell_type": "code",
      "metadata": {
        "id": "fZ3VCkNY2A5-"
      },
      "source": [
        "def imprimir_voos(agenda):\n",
        "  id_voo = -1\n",
        "  total_preco = 0\n",
        "  for i in range(len(agenda) // 2):\n",
        "    nome = pessoas[i][0]\n",
        "    origem = pessoas[i][1]\n",
        "    id_voo += 1\n",
        "    ida = voos[(origem, destino)][agenda[id_voo]]\n",
        "    total_preco += ida[2]\n",
        "    id_voo += 1\n",
        "    volta = voos[(destino, origem)][agenda[id_voo]]\n",
        "    total_preco += volta[2]\n",
        "    print('%10s%10s %5s-%5s %3s %5s-%5s %3s' % (nome, origem, ida[0], ida[1], ida[2],\n",
        "                                                volta[0], volta[1], volta[2]))\n",
        "  print('Preço total: ', total_preco)"
      ],
      "execution_count": null,
      "outputs": []
    },
    {
      "cell_type": "code",
      "metadata": {
        "id": "zVPPuyby4IXF",
        "colab": {
          "base_uri": "https://localhost:8080/"
        },
        "outputId": "da9c5957-ee5e-41fc-8980-2409de97ae57"
      },
      "source": [
        "agenda = [1,0, 3,2, 7,1, 6,3, 2,4, 5,3]\n",
        "imprimir_voos(agenda)"
      ],
      "execution_count": null,
      "outputs": [
        {
          "output_type": "stream",
          "name": "stdout",
          "text": [
            "    Lisboa       LIS  7:39-10:24 219  6:19- 8:13 239\n",
            "    Madrid       MAD 11:01-12:39 260  9:11-10:42 172\n",
            "     Paris       CDG 17:07-20:04 291  8:23-11:07 143\n",
            "    Dublin       DUB 15:27-17:18 151 10:33-12:03  74\n",
            "  Bruxelas       BRU  9:08-12:12 364 12:20-16:34 500\n",
            "   Londres       LHR 13:40-15:38 137 10:32-13:16 139\n",
            "Preço total:  2689\n"
          ]
        }
      ]
    },
    {
      "cell_type": "code",
      "metadata": {
        "id": "ecuxeMa_43Jn",
        "colab": {
          "base_uri": "https://localhost:8080/"
        },
        "outputId": "d0a1437f-db6c-48c9-de43-b85aadf7e4eb"
      },
      "source": [
        "10**12"
      ],
      "execution_count": null,
      "outputs": [
        {
          "output_type": "execute_result",
          "data": {
            "text/plain": [
              "1000000000000"
            ]
          },
          "metadata": {},
          "execution_count": 17
        }
      ]
    },
    {
      "cell_type": "markdown",
      "metadata": {
        "id": "GqqEtILuYaj-"
      },
      "source": [
        "## Fitness function"
      ]
    },
    {
      "cell_type": "code",
      "metadata": {
        "id": "fH1uo4sm5dyK"
      },
      "source": [
        "def fitness_function(agenda):\n",
        "  id_voo = -1\n",
        "  total_preco = 0\n",
        "  for i in range(len(agenda) // 2):\n",
        "    origem = pessoas[i][1]\n",
        "    id_voo += 1\n",
        "    ida = voos[(origem, destino)][agenda[id_voo]]\n",
        "    total_preco += ida[2]\n",
        "    id_voo += 1\n",
        "    volta = voos[(destino, origem)][agenda[id_voo]]\n",
        "    total_preco += volta[2]\n",
        "\n",
        "  return total_preco"
      ],
      "execution_count": null,
      "outputs": []
    },
    {
      "cell_type": "code",
      "metadata": {
        "id": "OSaGBRB25_Xk",
        "colab": {
          "base_uri": "https://localhost:8080/"
        },
        "outputId": "c291a063-e765-4804-d64d-b72a773509df"
      },
      "source": [
        "agenda = [1,7, 3,1, 1,1, 6,3, 2,4, 5,3]\n",
        "fitness_function(agenda)"
      ],
      "execution_count": null,
      "outputs": [
        {
          "output_type": "execute_result",
          "data": {
            "text/plain": [
              "2619"
            ]
          },
          "metadata": {},
          "execution_count": 19
        }
      ]
    },
    {
      "cell_type": "markdown",
      "source": [
        "<font color='red'>Atualização JAN/2024 relacionada à instalação do mlrose</font>"
      ],
      "metadata": {
        "id": "_dyPcKz4xhSy"
      }
    },
    {
      "cell_type": "code",
      "source": [
        "!git clone https://github.com/gkhayes/mlrose.git\n",
        "!pip install mlrose/."
      ],
      "metadata": {
        "id": "QNunf3FrxoP2",
        "colab": {
          "base_uri": "https://localhost:8080/"
        },
        "outputId": "1a542d19-a985-4e28-dd71-c38d34af15fb"
      },
      "execution_count": null,
      "outputs": [
        {
          "output_type": "stream",
          "name": "stdout",
          "text": [
            "Cloning into 'mlrose'...\n",
            "remote: Enumerating objects: 853, done.\u001b[K\n",
            "remote: Counting objects: 100% (4/4), done.\u001b[K\n",
            "remote: Compressing objects: 100% (4/4), done.\u001b[K\n",
            "remote: Total 853 (delta 0), reused 4 (delta 0), pack-reused 849\u001b[K\n",
            "Receiving objects: 100% (853/853), 414.35 KiB | 7.14 MiB/s, done.\n",
            "Resolving deltas: 100% (551/551), done.\n",
            "Processing ./mlrose\n",
            "  Preparing metadata (setup.py) ... \u001b[?25l\u001b[?25hdone\n",
            "Requirement already satisfied: numpy in /usr/local/lib/python3.10/dist-packages (from mlrose==1.3.0) (1.25.2)\n",
            "Requirement already satisfied: scipy in /usr/local/lib/python3.10/dist-packages (from mlrose==1.3.0) (1.11.4)\n",
            "Requirement already satisfied: scikit-learn in /usr/local/lib/python3.10/dist-packages (from mlrose==1.3.0) (1.2.2)\n",
            "Requirement already satisfied: joblib>=1.1.1 in /usr/local/lib/python3.10/dist-packages (from scikit-learn->mlrose==1.3.0) (1.3.2)\n",
            "Requirement already satisfied: threadpoolctl>=2.0.0 in /usr/local/lib/python3.10/dist-packages (from scikit-learn->mlrose==1.3.0) (3.2.0)\n",
            "Building wheels for collected packages: mlrose\n",
            "  Building wheel for mlrose (setup.py) ... \u001b[?25l\u001b[?25hdone\n",
            "  Created wheel for mlrose: filename=mlrose-1.3.0-py3-none-any.whl size=27711 sha256=e1ab24963996a305a974cd56c6bb43b8ecda7d66a1c0ec4221804da5f3bc5f48\n",
            "  Stored in directory: /tmp/pip-ephem-wheel-cache-bcsbxw66/wheels/50/ac/56/a248001dcf63344fbef992039dec2613cb4a7c56222c6f9a92\n",
            "Successfully built mlrose\n",
            "Installing collected packages: mlrose\n",
            "Successfully installed mlrose-1.3.0\n"
          ]
        }
      ]
    },
    {
      "cell_type": "code",
      "metadata": {
        "id": "Bqmj2a3A8lSA"
      },
      "source": [
        "#!pip install mlrose - este código pode não funcionar"
      ],
      "execution_count": null,
      "outputs": []
    },
    {
      "cell_type": "code",
      "source": [
        "import six\n",
        "import sys\n",
        "sys.modules['sklearn.externals.six'] = six"
      ],
      "metadata": {
        "id": "qlSJlk-VeffS"
      },
      "execution_count": null,
      "outputs": []
    },
    {
      "cell_type": "code",
      "metadata": {
        "id": "hleIBozb8toR"
      },
      "source": [
        "import mlrose"
      ],
      "execution_count": null,
      "outputs": []
    },
    {
      "cell_type": "code",
      "metadata": {
        "id": "sgqWculR8yqo"
      },
      "source": [
        "fitness = mlrose.CustomFitness(fitness_function)"
      ],
      "execution_count": null,
      "outputs": []
    },
    {
      "cell_type": "code",
      "metadata": {
        "id": "HWQKJU3w9DGr"
      },
      "source": [
        "problema = mlrose.DiscreteOpt(length=12, fitness_fn=fitness,\n",
        "                              maximize = False, max_val = 10)"
      ],
      "execution_count": null,
      "outputs": []
    },
    {
      "cell_type": "markdown",
      "metadata": {
        "id": "pMo4HJcsnGVT"
      },
      "source": [
        "## Hill climb"
      ]
    },
    {
      "cell_type": "code",
      "metadata": {
        "id": "wrWp0PbxFY2a",
        "colab": {
          "base_uri": "https://localhost:8080/"
        },
        "outputId": "55ac2e3c-bce5-4346-c257-b778926031d4"
      },
      "source": [
        "melhor_solucao, melhor_custo = mlrose.hill_climb(problema, random_state = 1)\n",
        "melhor_solucao, melhor_custo"
      ],
      "execution_count": null,
      "outputs": [
        {
          "output_type": "execute_result",
          "data": {
            "text/plain": [
              "(array([2, 6, 5, 7, 8, 1, 3, 6, 0, 2, 9, 1]), 1566.0)"
            ]
          },
          "metadata": {},
          "execution_count": 27
        }
      ]
    },
    {
      "cell_type": "code",
      "metadata": {
        "id": "cFm4OyLPGXgp",
        "colab": {
          "base_uri": "https://localhost:8080/"
        },
        "outputId": "a9bf5f69-43d4-4d37-eab8-b9924294ecea"
      },
      "source": [
        "imprimir_voos(melhor_solucao)"
      ],
      "execution_count": null,
      "outputs": [
        {
          "output_type": "stream",
          "name": "stdout",
          "text": [
            "    Lisboa       LIS  9:15-12:03  99 15:07-17:21 129\n",
            "    Madrid       MAD 14:22-16:32 126 17:06-20:00  95\n",
            "     Paris       CDG 18:23-21:35 134  8:23-11:07 143\n",
            "    Dublin       DUB 11:16-13:29  83 15:25-16:58  62\n",
            "  Bruxelas       BRU  6:12-10:22 230  9:49-13:51 229\n",
            "   Londres       LHR 20:30-23:11 114  8:19-11:16 122\n",
            "Preço total:  1566\n"
          ]
        }
      ]
    },
    {
      "cell_type": "code",
      "metadata": {
        "id": "JbDgA_MuGgLU",
        "colab": {
          "base_uri": "https://localhost:8080/"
        },
        "outputId": "1db204a2-a50d-4f20-d46e-f7cece3d7f71"
      },
      "source": [
        "voos[('BRU', 'FCO')]"
      ],
      "execution_count": null,
      "outputs": [
        {
          "output_type": "execute_result",
          "data": {
            "text/plain": [
              "[('6:12', '10:22', 230),\n",
              " ('7:53', '11:37', 433),\n",
              " ('9:08', '12:12', 364),\n",
              " ('10:30', '14:57', 290),\n",
              " ('12:19', '15:25', 342),\n",
              " ('13:54', '18:02', 294),\n",
              " ('15:44', '18:55', 382),\n",
              " ('16:52', '20:48', 448),\n",
              " ('18:26', '21:29', 464),\n",
              " ('20:07', '23:27', 473)]"
            ]
          },
          "metadata": {},
          "execution_count": 29
        }
      ]
    },
    {
      "cell_type": "markdown",
      "metadata": {
        "id": "mgHnSkdacDEp"
      },
      "source": [
        "## Simulated annealing"
      ]
    },
    {
      "cell_type": "code",
      "metadata": {
        "id": "TM9bez7II2V3",
        "colab": {
          "base_uri": "https://localhost:8080/"
        },
        "outputId": "941031bf-bd3d-4aef-fb6d-a1872954c720"
      },
      "source": [
        "melhor_solucao, melhor_custo = mlrose.simulated_annealing(problema,\n",
        "                                                        #   schedule=mlrose.decay.GeomDecay(init_temp=10000), # ATUALIZAÇÃO FEV-2024\n",
        "                                                          schedule=mlrose.GeomDecay(init_temp=10000), # ATUALIZAÇÃO FEV-2024\n",
        "                                                          random_state=1)\n",
        "melhor_solucao, melhor_custo"
      ],
      "execution_count": null,
      "outputs": [
        {
          "output_type": "execute_result",
          "data": {
            "text/plain": [
              "(array([6, 7, 4, 9, 8, 4, 1, 0, 0, 3, 5, 3]), 1820.0)"
            ]
          },
          "metadata": {},
          "execution_count": 30
        }
      ]
    },
    {
      "cell_type": "code",
      "metadata": {
        "id": "zfhQV3U_K0nH",
        "colab": {
          "base_uri": "https://localhost:8080/"
        },
        "outputId": "b035f478-4c57-45fc-f5b7-b0f015e59995"
      },
      "source": [
        "imprimir_voos(melhor_solucao)"
      ],
      "execution_count": null,
      "outputs": [
        {
          "output_type": "stream",
          "name": "stdout",
          "text": [
            "    Lisboa       LIS 15:03-16:42 135 16:35-18:56 144\n",
            "    Madrid       MAD 12:44-14:17 134 19:32-21:25 160\n",
            "     Paris       CDG 18:23-21:35 134 12:37-15:05 170\n",
            "    Dublin       DUB  8:04-10:11  95  6:39- 8:09  86\n",
            "  Bruxelas       BRU  6:12-10:22 230 10:51-14:16 256\n",
            "   Londres       LHR 13:40-15:38 137 10:32-13:16 139\n",
            "Preço total:  1820\n"
          ]
        }
      ]
    },
    {
      "cell_type": "markdown",
      "metadata": {
        "id": "Zt7GvTvc1dnQ"
      },
      "source": [
        "## Algoritmo genético"
      ]
    },
    {
      "cell_type": "code",
      "metadata": {
        "id": "tYlwF-n2XtMm",
        "colab": {
          "base_uri": "https://localhost:8080/"
        },
        "outputId": "09b20bb6-7522-41dc-cd93-d5ea352c3fe5"
      },
      "source": [
        "melhor_solucao, melhor_custo = mlrose.genetic_alg(problema, pop_size=500, mutation_prob=0.2,\n",
        "                                                  random_state=1)\n",
        "melhor_solucao, melhor_custo"
      ],
      "execution_count": null,
      "outputs": [
        {
          "output_type": "execute_result",
          "data": {
            "text/plain": [
              "(array([7, 3, 1, 2, 9, 0, 3, 8, 0, 3, 4, 1]), 1956.0)"
            ]
          },
          "metadata": {},
          "execution_count": 32
        }
      ]
    },
    {
      "cell_type": "code",
      "metadata": {
        "id": "7Vfden9jYn1j",
        "colab": {
          "base_uri": "https://localhost:8080/"
        },
        "outputId": "97cb1444-53b7-4d79-f28a-0b8186b1b5c0"
      },
      "source": [
        "imprimir_voos(melhor_solucao)"
      ],
      "execution_count": null,
      "outputs": [
        {
          "output_type": "stream",
          "name": "stdout",
          "text": [
            "    Lisboa       LIS 16:51-19:09 147 11:07-13:24 171\n",
            "    Madrid       MAD  8:25-10:34 157  9:11-10:42 172\n",
            "     Paris       CDG 19:53-22:21 173  6:33- 9:14 172\n",
            "    Dublin       DUB 11:16-13:29  83 18:24-20:49 124\n",
            "  Bruxelas       BRU  6:12-10:22 230 10:51-14:16 256\n",
            "   Londres       LHR 12:08-14:59 149  8:19-11:16 122\n",
            "Preço total:  1956\n"
          ]
        }
      ]
    }
  ]
}